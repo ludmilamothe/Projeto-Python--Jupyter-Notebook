{
 "cells": [
  {
   "cell_type": "markdown",
   "id": "5af24b67",
   "metadata": {},
   "source": [
    "Automação de Sistemas e Processos com Python\n"
   ]
  },
  {
   "cell_type": "markdown",
   "id": "8a50d4ec",
   "metadata": {},
   "source": [
    "Case: Todos os dias, o nosso sistema atualiza as vendas do dia anterior. O seu trabalho diário, como analista, é enviar um e-mail para a diretoria, assim que começar a trabalhar, com o faturamento e a quantidade de produtos vendidos no dia anterior\n",
    "\n",
    "E-mail da diretoria: seugmail+diretoria@gmail.com\n",
    "Local onde o sistema disponibiliza as vendas do dia anterior: https://drive.google.com/drive/folders/1iAsAIT4QfolhRCzqJY1BLhxMIZNAQII9?usp=sharing"
   ]
  },
  {
   "cell_type": "code",
   "execution_count": null,
   "id": "060842d2",
   "metadata": {},
   "outputs": [],
   "source": [
    "#Instalação dos Pacotes\n",
    "!pip install pyautogui\n",
    "!pip install pyperclip"
   ]
  },
  {
   "cell_type": "code",
   "execution_count": null,
   "id": "4848bcb2",
   "metadata": {},
   "outputs": [],
   "source": [
    "#Documentação \n",
    "#https://pyautogui.readthedocs.io/en/latest/quickstart.html\n",
    "\n",
    "# Importação de Pacotes\n",
    "import pyautogui\n",
    "import pyperclip\n",
    "import time\n",
    "import pandas as pd\n",
    "\n",
    "#Tempo / Delay \n",
    "pyautogui.PAUSE = 1\n",
    "\n",
    "#Abrindo aba \n",
    "pyautogui.hotkey(\"ctrl\",\"t\") \n",
    "\n",
    "#Copiando o link\n",
    "pyperclip.copy(\"https://drive.google.com/drive/folders/1iAsAIT4QfolhRCzqJY1BLhxMIZNAQII9?usp=sharing\") \n",
    "\n",
    "#Colando o link\n",
    "pyautogui.hotkey(\"ctrl\", \"v\") \n",
    "\n",
    "#Entrando no link\n",
    "pyautogui.press(\"enter\") \n",
    "\n",
    "#Carregamento do sistema 5 segundos\n",
    "time.sleep(5)\n",
    "\n",
    "#Para saber a posição do mouse\n",
    "#pyautogui.position()\n",
    "\n",
    "#Navegar até a pasta\n",
    "pyautogui.click(x=372, y=317, clicks=2) \n",
    "time.sleep(2)\n",
    "\n",
    "#Fazer Download base de vendas\n",
    "pyautogui.click(x=450, y=431)\n",
    "pyautogui.click (x=1139, y=192)\n",
    "pyautogui.click (x=882, y=636)\n",
    "\n",
    "#Confirgurando tempo de carregamento de 5 segundos\n",
    "time.sleep(5)\n",
    "\n",
    "#Importando a tabela baixada\n",
    "tabela = pd.read_excel(r\"C:\\Tabela\\Vendas - Dez.xlsx\")\n",
    "display(tabela)\n",
    "\n",
    "#Calcular o faturamento e a quantidade de produtos vendidos (os indicadores)\n",
    "faturamento = tabela[\"Valor Final\"].sum()\n",
    "qtde_produtos = tabela[\"Quantidade\"].sum()\n",
    "\n",
    "#Abrindo email\n",
    "pyautogui.hotkey(\"ctrl\",\"t\")\n",
    "pyperclip.copy(\"https://mail.google.com/mail/u/1/#inbox\")\n",
    "pyautogui.hotkey(\"ctrl\", \"v\")\n",
    "pyautogui.press (\"enter\")\n",
    "\n",
    "time.sleep(5)\n",
    "\n",
    "#Escrever e enviar Email\n",
    "pyautogui.click(x=107, y=224)\n",
    "pyautogui.write(\"### email-aqui ###\")\n",
    "pyautogui.press(\"tab\")\n",
    "pyautogui.press(\"tab\")\n",
    "pyperclip.copy(\"Relatório de vendas\")\n",
    "pyautogui.hotkey(\"ctrl\",\"v\")\n",
    "pyautogui.press(\"tab\")\n",
    "texto = (f\"\"\"Prezados, bom dia\n",
    "O faturamento de ontem foi de R$: {faturamento:,.2f}\n",
    "a quantidade de produtos vendidos foi de: {qtde_produtos:,}\n",
    "Atenciosamente \"\"\")\n",
    "pyperclip.copy(texto)\n",
    "pyautogui.hotkey(\"ctrl\",\"v\")\n",
    "pyautogui.hotkey(\"ctrl\", \"enter\")"
   ]
  }
 ],
 "metadata": {
  "kernelspec": {
   "display_name": "Python 3 (ipykernel)",
   "language": "python",
   "name": "python3"
  },
  "language_info": {
   "codemirror_mode": {
    "name": "ipython",
    "version": 3
   },
   "file_extension": ".py",
   "mimetype": "text/x-python",
   "name": "python",
   "nbconvert_exporter": "python",
   "pygments_lexer": "ipython3",
   "version": "3.9.7"
  }
 },
 "nbformat": 4,
 "nbformat_minor": 5
}
